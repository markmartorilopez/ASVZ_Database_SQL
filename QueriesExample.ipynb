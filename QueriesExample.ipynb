{
 "cells": [
  {
   "attachments": {},
   "cell_type": "markdown",
   "metadata": {},
   "source": [
    "## INSERT DATA\n",
    "- In order to speed up the process, I decided to insert the data using Python and the SQlite3 module.\n",
    "- However, the queries look like this:"
   ]
  },
  {
   "cell_type": "code",
   "execution_count": null,
   "metadata": {
    "vscode": {
     "languageId": "sql"
    }
   },
   "outputs": [],
   "source": [
    "/* ORACLE & POSTGRESQL */\n",
    "\n",
    "\n",
    "/* customer table - No need to add the id, since AUTO_INCREMENT and SERIAL do that for us.*/ \n",
    "INSERT INTO Customer\n",
    "\t( name, email, address, city, zip, phone)\n",
    "\tVALUES \n",
    "\t('Mark Martori Lopez','martori.mark@gmail.com', 'Winterthurerstrasse 297','Zurich','8057','+41 789898989');\n"
   ]
  },
  {
   "attachments": {},
   "cell_type": "markdown",
   "metadata": {},
   "source": [
    "## USEFUL QUERIES"
   ]
  },
  {
   "attachments": {},
   "cell_type": "markdown",
   "metadata": {},
   "source": [
    "### Run by ASVZ Employees"
   ]
  },
  {
   "attachments": {},
   "cell_type": "markdown",
   "metadata": {},
   "source": [
    "#### 1. Which employees work at ASVZ? Who are they supervised by?\n",
    "\n",
    "![Alt text](../figures/manager.png)\n",
    "\n",
    "- As we can see, Alex Torres Marin has the highest responsibility."
   ]
  },
  {
   "cell_type": "code",
   "execution_count": null,
   "metadata": {
    "vscode": {
     "languageId": "sql"
    }
   },
   "outputs": [],
   "source": [
    "SELECT E.name AS \"Employee\", M.name AS \"Manager\"\n",
    "FROM Employee E LEFT OUTER JOIN Employee M \n",
    "ON E.manager_id = M.employee_id\n",
    "ORDER BY E.name"
   ]
  },
  {
   "attachments": {},
   "cell_type": "markdown",
   "metadata": {},
   "source": [
    "#### 2. Find customers with a non-swiss phone number:\n",
    "\n",
    "![Alt text](../figures/noswiss.png)"
   ]
  },
  {
   "cell_type": "code",
   "execution_count": null,
   "metadata": {
    "vscode": {
     "languageId": "sql"
    }
   },
   "outputs": [],
   "source": [
    "SELECT *\n",
    "FROM Customer\n",
    "WHERE phone NOT LIKE '+41%'\n",
    "AND phone NOT LIKE '0041%';"
   ]
  },
  {
   "attachments": {},
   "cell_type": "markdown",
   "metadata": {},
   "source": [
    "#### 3. Show in the APP how many participants are already inscribed at each event:\n",
    "\n",
    "![Alt text](../figures/pp.png)"
   ]
  },
  {
   "cell_type": "code",
   "execution_count": null,
   "metadata": {
    "vscode": {
     "languageId": "sql"
    }
   },
   "outputs": [],
   "source": [
    "SELECT E.name, COUNT(*) AS Participants FROM Event E, Customer C, EventRegister ER\n",
    "WHERE ER.costumer_id = C.customer_id AND ER.event_id = E.event_id\n",
    "GROUP BY E.Name;"
   ]
  },
  {
   "attachments": {},
   "cell_type": "markdown",
   "metadata": {},
   "source": [
    "### Searched by customer through App:"
   ]
  },
  {
   "attachments": {},
   "cell_type": "markdown",
   "metadata": {},
   "source": [
    "#### 1. Where can I play football ?\n",
    "\n",
    "![Alt text](../figures/ftbl.png)"
   ]
  },
  {
   "cell_type": "code",
   "execution_count": null,
   "metadata": {
    "vscode": {
     "languageId": "sql"
    }
   },
   "outputs": [],
   "source": [
    "SELECT E.name AS Event, E.details AS Details, R.name AS Room, B.name AS Building, B.address AS Address FROM Room R, Building B, Event E\n",
    "WHERE R.building_id = B.building_id AND E.room_id = R.room_id AND E.name LIKE '%Football%';"
   ]
  },
  {
   "attachments": {},
   "cell_type": "markdown",
   "metadata": {},
   "source": [
    "#### 2. How is the status of my Hockey inscription? Am I already inscribed?\n",
    "\n",
    "![Alt text](../figures/pol.png)"
   ]
  },
  {
   "cell_type": "code",
   "execution_count": null,
   "metadata": {
    "vscode": {
     "languageId": "sql"
    }
   },
   "outputs": [],
   "source": [
    "SELECT C.name, E.name, ER.status FROM Customer C, Event E, EventRegister ER WHERE C.customer_id = ER.costumer_id\n",
    "AND E.event_id = ER.event_id AND C.customer_id = 3 AND E.name LIKE '%Hockey%';"
   ]
  },
  {
   "attachments": {},
   "cell_type": "markdown",
   "metadata": {},
   "source": [
    "## ERROR QUERIES\n",
    "\n",
    "- 1. Syntax\n",
    "- - Results in \"No Execution\" with output error message.\n",
    "- - - Misspelled Keyword.\n",
    "- - - Missing Table.\n",
    "- - - Unqualified column name.\n",
    "-\n",
    "- 2. Redundancy\n",
    "- - Execution, no output error message but excessive resource usage.\n",
    "- - - Extra tanñe\n",
    "- - - Unneeded GROUP BY clause.\n",
    ".\n",
    "- 3. Semantic\n",
    "- - Execution with incorrect result and may present excessive resource usage too.\n",
    "- - - Missing JOIN or Row CONDITION.\n",
    "- - - Missing parantheses.\n",
    "-\n",
    "#### Examples:"
   ]
  },
  {
   "cell_type": "code",
   "execution_count": null,
   "metadata": {
    "vscode": {
     "languageId": "sql"
    }
   },
   "outputs": [],
   "source": [
    "/* \n",
    "List the student name and offering number in which the student earned a grade grater than 3.7 and took the offering in fall 2019.\n",
    "*/\n",
    "\n",
    "/* INCORRECT STATEMENT */\n",
    "SELECT studentName, enrollment.offerNo\n",
    "FROM Student, Enrollment, Offering\n",
    "WHERE Student.No = Enrollment.No\n",
    "AND offYear = 2019 AND offTerm = 'FALL' AND enrGrade >=3.7;\n",
    "GROUP BY studentName, Enrollment.offerNo\n",
    "\n",
    "/* PROBLEMS \n",
    "1 - Missing one foreign key condition. 3 TABLES usually endow 2 foreign keys.\n",
    "2 - Spelling mistake. TABLE names start with Uppercase. Enrollment.\n",
    "3 - GROUP BY redundancy. No summary calculations, therefore no need for a group by.\n",
    "*/\n",
    "\n",
    "/* CORRECT STATEMENT */\n",
    "SELECT studentName, Enrollment.offerNo\n",
    "FROM Student, Enrollment, Offering\n",
    "WHERE Student.No = Enrollment.No AND Enrollment.offerNo = Offering.offerNo\n",
    "AND offYear = 2019 AND offTerm = 'FALL' AND enrGrade >=3.7;"
   ]
  }
 ],
 "metadata": {
  "kernelspec": {
   "display_name": "rin",
   "language": "python",
   "name": "python3"
  },
  "language_info": {
   "codemirror_mode": {
    "name": "ipython",
    "version": 3
   },
   "file_extension": ".py",
   "mimetype": "text/x-python",
   "name": "python",
   "nbconvert_exporter": "python",
   "pygments_lexer": "ipython3",
   "version": "3.8.15"
  },
  "orig_nbformat": 4,
  "vscode": {
   "interpreter": {
    "hash": "0f98b681bdce3f32f2bb16a15c5969ee48ce98cc956bbc786f6e97b4d40fde33"
   }
  }
 },
 "nbformat": 4,
 "nbformat_minor": 2
}
